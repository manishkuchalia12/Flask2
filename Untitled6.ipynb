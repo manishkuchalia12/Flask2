{
 "cells": [
  {
   "cell_type": "markdown",
   "id": "24f9bcc2-f8e6-4b68-8745-e6efdbb51080",
   "metadata": {},
   "source": [
    "Q1. Explain GET and POST methods.\n",
    "Ans:-GET and POST are two HTTP methods used to request and send data between a client (such as a web browser) and a server.\n",
    "GET Method:\n",
    "\r\n",
    "Purpose: The GET method is used to request data from a specified resource.\r\n",
    "Data Transmission: Data is appended to the URL as a query string. It is visible in the URL, making it less secure for sensitive informati\n",
    "POST Method:\n",
    "\r\n",
    "Purpose: The POST method is used to submit data to be processed to a specified resource.\r\n",
    "Data Transmission: Data is sent in the request body and is not visible in the URL. This makes it more secure for transmitting sensitive information.on."
   ]
  },
  {
   "cell_type": "markdown",
   "id": "35d6a015-76e9-4336-b54c-9c6732320985",
   "metadata": {},
   "source": [
    "Q2. Why is request used in Flask?\n",
    "Ans:-In Flask, the request object is used to access incoming request data when processing a web request. Flask is a micro web framework for Python, and it provides a simple and lightweight way to build web applications. The request object encapsulates the details of an HTTP request made by a client to a Flask application."
   ]
  },
  {
   "cell_type": "markdown",
   "id": "5d01ce2a-06e9-4baf-8a04-6a1281c7fa1a",
   "metadata": {},
   "source": [
    "Q3. Why is redirect() used in Flask?\n",
    "Ans:-In Flask, the redirect() function is used to perform a redirection to a different endpoint or URL. Redirection is the process of sending a client's browser to a different location, either within the same application or to an external resource. "
   ]
  },
  {
   "cell_type": "markdown",
   "id": "9b35b889-9a27-42b6-bdf9-0b862c37be95",
   "metadata": {},
   "source": [
    "Q4. What are templates in Flask? Why is the render_template() function used?\n",
    "Ans:-In Flask, templates are used to dynamically generate HTML content for web applications. Templates allow you to separate the structure of your web pages from the actual Python code that generates them. This separation of concerns makes it easier to manage and organize your code.\n",
    "Template Files:\n",
    "\r\n",
    "Template files in Flask typically have the .html extension, and they are stored in a folder called templates within your Flask project director\n",
    "The render_template() function in Flask is used to render a template and return the corresponding HTML to the client. It takes the name of the template file as its first argument and can also accept additional variables to pass data to the template.y."
   ]
  },
  {
   "cell_type": "markdown",
   "id": "503be4a1-fb30-49f6-b69d-cdd50df1250b",
   "metadata": {},
   "source": [
    "Q5. Create a simple API. Use Postman to test it. \n",
    "Create a Flask API:\n",
    "\r\n",
    "Create a file named app.py and add the following code:"
   ]
  },
  {
   "cell_type": "code",
   "execution_count": null,
   "id": "235583d1-b97e-4224-a442-a379a344abbe",
   "metadata": {},
   "outputs": [],
   "source": [
    "from flask import Flask, jsonify\n",
    "\n",
    "app = Flask(__name__)\n",
    "\n",
    "@app.route('/api/user', methods=['GET'])\n",
    "def get_user():\n",
    "    user = {\n",
    "        'id': 1,\n",
    "        'username': 'man_kuc',\n",
    "        'email': 'man_ku@example.com'\n",
    "    }\n",
    "    return jsonify(user)\n",
    "\n",
    "if __name__ == '__main__':\n",
    "    app.run(debug=True)\n"
   ]
  }
 ],
 "metadata": {
  "kernelspec": {
   "display_name": "Python 3 (ipykernel)",
   "language": "python",
   "name": "python3"
  },
  "language_info": {
   "codemirror_mode": {
    "name": "ipython",
    "version": 3
   },
   "file_extension": ".py",
   "mimetype": "text/x-python",
   "name": "python",
   "nbconvert_exporter": "python",
   "pygments_lexer": "ipython3",
   "version": "3.12.0"
  }
 },
 "nbformat": 4,
 "nbformat_minor": 5
}
